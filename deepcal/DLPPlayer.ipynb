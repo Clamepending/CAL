{
 "cells": [
  {
   "cell_type": "code",
   "execution_count": 22,
   "metadata": {},
   "outputs": [],
   "source": [
    "import vamtoolbox as vam\n",
    "\n",
    "if __name__ == \"__main__\":\n",
    "    # Precomputed folder of images\n",
    "    # vam.dlp.players.player(images_dir=vam.resources.load(\"seq0imagesdir\"),rot_vel=24,windowed=True)\n",
    "\n",
    "    # Sinogram object\n",
    "    sino = vam.geometry.loadVolume(file_name=vam.resources.load(\"sino0.sino\"))\n",
    "    iconfig=vam.imagesequence.ImageConfig(image_dims=(1920,1080),array_num=1,array_offset=50, size_scale=4)\n",
    "    vam.dlp.players.player(sinogram=sino,image_config=iconfig,rot_vel=480,windowed=True)\n",
    "\n",
    "    # # Image sequence object\n",
    "    # sino = vam.geometry.loadVolume(file_name=vam.resources.load(\"sino0.sino\"))\n",
    "    # iconfig=vam.imagesequence.ImageConfig(image_dims=(1920,1080),array_num=2,array_offset=450)\n",
    "    # image_seq = vam.imagesequence.ImageSeq(image_config=iconfig,sinogram=sino)\n",
    "    # vam.dlp.players.player(image_seq=image_seq,pause_bg_color=(0,255,0),duration=10,rot_vel=24,start_index=100,windowed=True)\n",
    "\n",
    "    # # Video\n",
    "    # vam.dlp.players.player(video=vam.resources.load(\"video0.mp4\"),rot_vel=12,windowed=True)"
   ]
  },
  {
   "cell_type": "code",
   "execution_count": null,
   "metadata": {},
   "outputs": [],
   "source": []
  }
 ],
 "metadata": {
  "kernelspec": {
   "display_name": "CALenv",
   "language": "python",
   "name": "python3"
  },
  "language_info": {
   "codemirror_mode": {
    "name": "ipython",
    "version": 3
   },
   "file_extension": ".py",
   "mimetype": "text/x-python",
   "name": "python",
   "nbconvert_exporter": "python",
   "pygments_lexer": "ipython3",
   "version": "3.9.11"
  },
  "orig_nbformat": 4
 },
 "nbformat": 4,
 "nbformat_minor": 2
}
