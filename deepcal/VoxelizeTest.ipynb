{
 "cells": [
  {
   "cell_type": "code",
   "execution_count": 4,
   "metadata": {},
   "outputs": [],
   "source": [
    "import vamtoolbox as vam\n",
    "\n",
    "target_geo = vam.geometry.TargetGeometry(stlfilename=\"./STLfiles/Dragon 2.5_stl.stl\", resolution = 50)\n",
    "\n"
   ]
  },
  {
   "cell_type": "code",
   "execution_count": null,
   "metadata": {},
   "outputs": [],
   "source": []
  },
  {
   "cell_type": "code",
   "execution_count": 5,
   "metadata": {},
   "outputs": [
    {
     "data": {
      "text/plain": [
       "<vedo.plotter.Plotter at 0x2d5e0f9d0d0>"
      ]
     },
     "execution_count": 5,
     "metadata": {},
     "output_type": "execute_result"
    }
   ],
   "source": [
    "import vedo\n",
    "vol = vedo.Volume(target_geo.array).legosurface(vmin=1, vmax=10)\n",
    "vol.show()"
   ]
  },
  {
   "cell_type": "code",
   "execution_count": 11,
   "metadata": {},
   "outputs": [
    {
     "name": "stderr",
     "output_type": "stream",
     "text": [
      "\u001b[1m\u001b[31;20m[vedo.volume.py:877] ERROR: cannot understand input type <class 'vamtoolbox.geometry.Reconstruction'>\u001b[0m\n"
     ]
    },
    {
     "ename": "AttributeError",
     "evalue": "'NoneType' object has no attribute 'GetDimensions'",
     "output_type": "error",
     "traceback": [
      "\u001b[1;31m---------------------------------------------------------------------------\u001b[0m",
      "\u001b[1;31mAttributeError\u001b[0m                            Traceback (most recent call last)",
      "Cell \u001b[1;32mIn[11], line 42\u001b[0m\n\u001b[0;32m     39\u001b[0m \u001b[39m# Pass the image array to the program\u001b[39;00m\n\u001b[0;32m     40\u001b[0m \u001b[39m# vol = vedo.Volume(image_array, mode=0)\u001b[39;00m\n\u001b[0;32m     41\u001b[0m vol \u001b[39m=\u001b[39m vedo\u001b[39m.\u001b[39mVolume(reconStruction, mode\u001b[39m=\u001b[39m\u001b[39m0\u001b[39m)\n\u001b[1;32m---> 42\u001b[0m vedo\u001b[39m.\u001b[39;49mapplications\u001b[39m.\u001b[39;49mRayCastPlotter(vol, bg\u001b[39m=\u001b[39;49m\u001b[39m'\u001b[39;49m\u001b[39mblack\u001b[39;49m\u001b[39m'\u001b[39;49m)\u001b[39m.\u001b[39mshow(viewup\u001b[39m=\u001b[39m\u001b[39m\"\u001b[39m\u001b[39mx\u001b[39m\u001b[39m\"\u001b[39m)\n",
      "File \u001b[1;32mc:\\Users\\Mark\\anaconda3\\envs\\ModifiedCALenv\\lib\\site-packages\\vedo\\applications.py:424\u001b[0m, in \u001b[0;36mRayCastPlotter.__init__\u001b[1;34m(self, volume, **kwargs)\u001b[0m\n\u001b[0;32m    421\u001b[0m volumeProperty \u001b[39m=\u001b[39m volume\u001b[39m.\u001b[39mGetProperty()\n\u001b[0;32m    422\u001b[0m img \u001b[39m=\u001b[39m volume\u001b[39m.\u001b[39mimagedata()\n\u001b[1;32m--> 424\u001b[0m \u001b[39mif\u001b[39;00m volume\u001b[39m.\u001b[39;49mdimensions()[\u001b[39m2\u001b[39m] \u001b[39m<\u001b[39m \u001b[39m3\u001b[39m:\n\u001b[0;32m    425\u001b[0m     vedo\u001b[39m.\u001b[39mlogger\u001b[39m.\u001b[39merror(\u001b[39m\"\u001b[39m\u001b[39mRayCastPlotter: not enough z slices.\u001b[39m\u001b[39m\"\u001b[39m)\n\u001b[0;32m    426\u001b[0m     \u001b[39mraise\u001b[39;00m \u001b[39mRuntimeError\u001b[39;00m\n",
      "File \u001b[1;32mc:\\Users\\Mark\\anaconda3\\envs\\ModifiedCALenv\\lib\\site-packages\\vedo\\volume.py:95\u001b[0m, in \u001b[0;36mBaseVolume.dimensions\u001b[1;34m(self)\u001b[0m\n\u001b[0;32m     93\u001b[0m \u001b[39mdef\u001b[39;00m \u001b[39mdimensions\u001b[39m(\u001b[39mself\u001b[39m):\n\u001b[0;32m     94\u001b[0m     \u001b[39m\"\"\"Return the nr. of voxels in the 3 dimensions.\"\"\"\u001b[39;00m\n\u001b[1;32m---> 95\u001b[0m     \u001b[39mreturn\u001b[39;00m np\u001b[39m.\u001b[39marray(\u001b[39mself\u001b[39;49m\u001b[39m.\u001b[39;49m_data\u001b[39m.\u001b[39;49mGetDimensions())\n",
      "\u001b[1;31mAttributeError\u001b[0m: 'NoneType' object has no attribute 'GetDimensions'"
     ]
    }
   ],
   "source": [
    "import vedo\n",
    "import vedo.applications\n",
    "import numpy as np\n",
    "from PIL import Image\n",
    "import os\n",
    "import vamtoolbox\n",
    "\n",
    "# Create an empty array to store the images\n",
    "image_array = []\n",
    "\n",
    "directory = \"preProjectionSeq\"\n",
    "# directory = \"ImageSeq\"\n",
    "\n",
    "name = \"thinker_mod\"\n",
    "\n",
    "# Iterate over the range of 360 images\n",
    "for i in range(360):\n",
    "    # Format the filename with the current index\n",
    "    filename = f\"{name}{str(i).zfill(4)}\"\n",
    "    \n",
    "    # Load the grayscale PNG image from the preProjectionSeq directory\n",
    "    image_path = os.path.join(directory, f\"{filename}.png\")\n",
    "    image = Image.open(image_path).convert(\"L\")\n",
    "    \n",
    "    # Convert the image to a numpy array\n",
    "    image_array.append(np.array(image))\n",
    "\n",
    "# Convert the list of arrays into a 3D numpy array\n",
    "image_array = np.stack(image_array)\n",
    "\n",
    "# Prepertion to make reconstruction array\n",
    "num_angles = 360\n",
    "angles = np.linspace(0, 360 - 360/num_angles, num_angles)\n",
    "optimizer_params = vam.optimize.Options(method='OSMO', n_iter=20, d_h = 0.85, d_l = 0.6, filter='hamming', verbose='plot')\n",
    "proj_geo = vam.geometry.ProjectionGeometry(angles, ray_type='parallel', CUDA=True)\n",
    "\n",
    "reconStruction = vamtoolbox.geometry.Reconstruction(image_array,proj_geo, optimizer_params)\n",
    "\n",
    "# Pass the image array to the program\n",
    "# vol = vedo.Volume(image_array, mode=0)\n",
    "vol = vedo.Volume(reconStruction, mode=0)\n",
    "vedo.applications.RayCastPlotter(vol, bg='black').show(viewup=\"x\")\n"
   ]
  },
  {
   "cell_type": "code",
   "execution_count": null,
   "metadata": {},
   "outputs": [],
   "source": []
  }
 ],
 "metadata": {
  "kernelspec": {
   "display_name": "CALenv",
   "language": "python",
   "name": "python3"
  },
  "language_info": {
   "codemirror_mode": {
    "name": "ipython",
    "version": 3
   },
   "file_extension": ".py",
   "mimetype": "text/x-python",
   "name": "python",
   "nbconvert_exporter": "python",
   "pygments_lexer": "ipython3",
   "version": "3.9.11"
  },
  "orig_nbformat": 4
 },
 "nbformat": 4,
 "nbformat_minor": 2
}
