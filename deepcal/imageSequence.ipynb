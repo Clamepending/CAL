{
 "cells": [
  {
   "cell_type": "code",
   "execution_count": 2,
   "metadata": {},
   "outputs": [],
   "source": [
    "import vamtoolbox as vam\n",
    "\n",
    "sino = vam.geometry.loadVolume(file_name=vam.resources.load(\"sino0.sino\"))\n",
    "iconfig0=vam.imagesequence.ImageConfig(image_dims=(1920,1080),array_num=2,array_offset=450)\n",
    "iconfig1=vam.imagesequence.ImageConfig(image_dims=(1920,1080),rotate_angle=45,size_scale=2)\n",
    "\n",
    "image_seq = vam.imagesequence.ImageSeq(image_config=iconfig0,sinogram=sino)\n",
    "image_seq.preview()\n",
    "\n",
    "image_seq = vam.imagesequence.ImageSeq(image_config=iconfig1,sinogram=sino)\n",
    "image_seq.preview()"
   ]
  }
 ],
 "metadata": {
  "kernelspec": {
   "display_name": "CALenv",
   "language": "python",
   "name": "python3"
  },
  "language_info": {
   "codemirror_mode": {
    "name": "ipython",
    "version": 3
   },
   "file_extension": ".py",
   "mimetype": "text/x-python",
   "name": "python",
   "nbconvert_exporter": "python",
   "pygments_lexer": "ipython3",
   "version": "3.9.11"
  },
  "orig_nbformat": 4
 },
 "nbformat": 4,
 "nbformat_minor": 2
}
